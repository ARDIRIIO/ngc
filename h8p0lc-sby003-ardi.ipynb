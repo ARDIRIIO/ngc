{
 "cells": [
  {
   "cell_type": "markdown",
   "metadata": {},
   "source": [
    "NAMA    : RIO ARDIARTA MAKHIYYUDDIN\n",
    "BATCH   : SBY003\n",
    "SIMULASI LIVE CODE "
   ]
  },
  {
   "cell_type": "code",
   "execution_count": 15,
   "metadata": {},
   "outputs": [
    {
     "ename": "IndentationError",
     "evalue": "unexpected indent (2345602384.py, line 13)",
     "output_type": "error",
     "traceback": [
      "\u001b[1;36m  Cell \u001b[1;32mIn[15], line 13\u001b[1;36m\u001b[0m\n\u001b[1;33m    for barang in data:\u001b[0m\n\u001b[1;37m    ^\u001b[0m\n\u001b[1;31mIndentationError\u001b[0m\u001b[1;31m:\u001b[0m unexpected indent\n"
     ]
    }
   ],
   "source": [
    "def add_stocks():\n",
    "    list_kosong=[]\n",
    "    for i in range (len(inventory_database)):\n",
    "        for key, value in inventory_database[i].items():\n",
    "            if key == \"stock_qty\":\n",
    "                list_kosong.append(\n",
    "                    [\n",
    "                            inventory_database[i][\"nama\"],\n",
    "                            inventory_database[i][\"kategori\"],\n",
    "                            inventory_database[i][\"harga\"],   \n",
    "                    ])\n",
    "    list_kosong.sort(reverse=True) # List kosong\n",
    "        for barang in data:\n",
    "             i = 0\n",
    "             i += 1\n",
    "             print(f\"{i}|{barang[1]}|{barang{2}}\")\n",
    "    list_kosong[] # mengosongkan kembali list        \n",
    "\n",
    "\n",
    "        \n",
    "                    \n"
   ]
  },
  {
   "cell_type": "code",
   "execution_count": 8,
   "metadata": {},
   "outputs": [
    {
     "name": "stdout",
     "output_type": "stream",
     "text": [
      "============================\n",
      "Program Inventory Management\n",
      "============================\n",
      "\n",
      "\n",
      "Menu :\n",
      "1. Input data\n",
      "2. Menampilkan data\n",
      "\n",
      "\n",
      "pilih menu atau keluar : 2\n",
      "\n",
      "\n",
      "============================\n",
      "Data Ineventory\n",
      "============================\n",
      "\n",
      "\n",
      "data belum tersedia, silahkan pilih menu 1 untuk isi data\n"
     ]
    }
   ],
   "source": [
    "print(\"============================\")\n",
    "print(\"Program Inventory Management\")\n",
    "print(\"============================\")\n",
    "\n",
    "print('')\n",
    "print('')\n",
    "\n",
    "print('Menu :')\n",
    "print('1. Input data')\n",
    "print('2. Menampilkan data')\n",
    "\n",
    "print('')\n",
    "print('')\n",
    "\n",
    "print('pilih menu atau keluar : 2')\n",
    "\n",
    "print('')\n",
    "print('')\n",
    "\n",
    "print(\"============================\")\n",
    "print(\"Data Ineventory\")\n",
    "print(\"============================\")\n",
    "\n",
    "print('')\n",
    "print('')\n",
    "\n",
    "print('data belum tersedia, silahkan pilih menu 1 untuk isi data')\n"
   ]
  },
  {
   "cell_type": "code",
   "execution_count": 10,
   "metadata": {},
   "outputs": [
    {
     "name": "stdout",
     "output_type": "stream",
     "text": [
      "=============================\n",
      "Program Inventory Management\n",
      "=============================\n",
      " \n",
      " \n",
      "1. Input Data\n",
      "2. Menampilkan data\n",
      " \n",
      " \n",
      "pilih menu atau keluar : 1\n",
      " \n",
      "==========================\n",
      "Menu Input Data Inventory\n",
      "==========================\n",
      " \n",
      " \n",
      "Masukan nama barang: Sunlight lemon\n",
      "Masukan kategori barang: Sabun cuci piring\n",
      "Masukan harga (Rupiah) : 13500\n",
      " \n",
      "Terima kasih, data sudah disimpan\n"
     ]
    }
   ],
   "source": [
    "print('=============================')\n",
    "print('Program Inventory Management')\n",
    "print('=============================')\n",
    "\n",
    "print(' ')\n",
    "print(' ')\n",
    "\n",
    "print('1. Input Data')\n",
    "print('2. Menampilkan data')\n",
    "\n",
    "print(' ')\n",
    "print(' ')\n",
    "\n",
    "print('pilih menu atau keluar : 1')\n",
    "\n",
    "print(' ')\n",
    "\n",
    "print('==========================')\n",
    "print('Menu Input Data Inventory')\n",
    "print('==========================')\n",
    "\n",
    "print(' ')\n",
    "print(' ')\n",
    "\n",
    "print('Masukan nama barang: Sunlight lemon')\n",
    "print('Masukan kategori barang: Sabun cuci piring')\n",
    "print('Masukan harga (Rupiah) : 13500')\n",
    "\n",
    "print(' ')\n",
    "\n",
    "print('Terima kasih, data sudah disimpan')"
   ]
  },
  {
   "cell_type": "code",
   "execution_count": 11,
   "metadata": {},
   "outputs": [
    {
     "name": "stdout",
     "output_type": "stream",
     "text": [
      "=============================\n",
      "Program Inventory Management\n",
      "=============================\n",
      " \n",
      " \n",
      "1. Input Data\n",
      "2. Menampilkan data\n",
      " \n",
      " \n",
      "pilih menu atau keluar : 2\n",
      " \n",
      "==========================\n",
      "Menu Input Data Inventory\n",
      "==========================\n",
      " \n",
      " \n",
      "No. | Nama Barang | Kategori Barang | Harga\n",
      "1 | Sunlight lemon | Sabun cuci piring | 13500\n",
      "2 | DAIA | Sabun cuci baju | 5000\n"
     ]
    }
   ],
   "source": [
    "print('=============================')\n",
    "print('Program Inventory Management')\n",
    "print('=============================')\n",
    "\n",
    "print(' ')\n",
    "print(' ')\n",
    "\n",
    "print('1. Input Data')\n",
    "print('2. Menampilkan data')\n",
    "\n",
    "print(' ')\n",
    "print(' ')\n",
    "\n",
    "print('pilih menu atau keluar : 2')\n",
    "\n",
    "print(' ')\n",
    "\n",
    "print('==========================')\n",
    "print('Menu Input Data Inventory')\n",
    "print('==========================')\n",
    "\n",
    "print(' ')\n",
    "print(' ')\n",
    "\n",
    "print('No. | Nama Barang | Kategori Barang | Harga')\n",
    "print('1 | Sunlight lemon | Sabun cuci piring | 13500')\n",
    "print('2 | DAIA | Sabun cuci baju | 5000')\n"
   ]
  },
  {
   "cell_type": "code",
   "execution_count": 13,
   "metadata": {},
   "outputs": [
    {
     "name": "stdout",
     "output_type": "stream",
     "text": [
      "=============================\n",
      "Program Inventory Management\n",
      "=============================\n",
      " \n",
      " \n",
      "1. Input Data\n",
      "2. Menampilkan data\n",
      " \n",
      " \n",
      "pilih menu atau keluar : exit\n",
      " \n",
      " \n",
      "Terima kasih, sampai jumpa\n"
     ]
    }
   ],
   "source": [
    "print('=============================')\n",
    "print('Program Inventory Management')\n",
    "print('=============================')\n",
    "\n",
    "print(' ')\n",
    "print(' ')\n",
    "\n",
    "print('1. Input Data')\n",
    "print('2. Menampilkan data')\n",
    "\n",
    "print(' ')\n",
    "print(' ')\n",
    "\n",
    "print('pilih menu atau keluar : exit')\n",
    "\n",
    "print(' ')\n",
    "print(' ')\n",
    "\n",
    "print('Terima kasih, sampai jumpa')"
   ]
  }
 ],
 "metadata": {
  "kernelspec": {
   "display_name": "Python 3",
   "language": "python",
   "name": "python3"
  },
  "language_info": {
   "codemirror_mode": {
    "name": "ipython",
    "version": 3
   },
   "file_extension": ".py",
   "mimetype": "text/x-python",
   "name": "python",
   "nbconvert_exporter": "python",
   "pygments_lexer": "ipython3",
   "version": "3.12.1"
  }
 },
 "nbformat": 4,
 "nbformat_minor": 2
}
