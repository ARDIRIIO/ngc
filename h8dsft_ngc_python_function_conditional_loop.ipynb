{
  "nbformat": 4,
  "nbformat_minor": 0,
  "metadata": {
    "colab": {
      "provenance": []
    },
    "kernelspec": {
      "name": "python3",
      "display_name": "Python 3"
    },
    "language_info": {
      "name": "python"
    }
  },
  "cells": [
    {
      "cell_type": "markdown",
      "source": [
        "# Exercise"
      ],
      "metadata": {
        "id": "cL2I7fqVRijP"
      }
    },
    {
      "cell_type": "markdown",
      "source": [
        "**Exercise 1**"
      ],
      "metadata": {
        "id": "57tkSa_8RkTk"
      }
    },
    {
      "cell_type": "code",
      "source": [
        "print('Displaying a right triangle pattern of numbers: ')\n",
        "z = 1\n",
        "for x in range(1, 10):\n",
        "    for y in range(1, x + 1):\n",
        "        print(z,end='')\n",
        "    z += 1\n",
        "    print()\n",
        "print(' ')"
      ],
      "metadata": {
        "colab": {
          "base_uri": "https://localhost:8080/"
        },
        "id": "mMwoXG8_RtlP",
        "outputId": "d311ec65-cbd2-4881-880a-1c2979a02ab9"
      },
      "execution_count": 1,
      "outputs": [
        {
          "output_type": "stream",
          "name": "stdout",
          "text": [
            "Displaying a right triangle pattern of numbers: \n",
            "1\n",
            "22\n",
            "333\n",
            "4444\n",
            "55555\n",
            "666666\n",
            "7777777\n",
            "88888888\n",
            "999999999\n",
            " \n"
          ]
        }
      ]
    },
    {
      "cell_type": "markdown",
      "source": [
        "**Exercise 2**"
      ],
      "metadata": {
        "id": "VYiSzskpR339"
      }
    },
    {
      "cell_type": "code",
      "source": [
        "valid = False\n",
        "\n",
        "while not valid:\n",
        "    password = input(\"Enter a password: \")\n",
        "\n",
        "    if len(password) < 6 or len(password) > 16:\n",
        "        print(\"Password must be between 6 and 16 characters.\")\n",
        "    elif not any(c.islower() for c in password):\n",
        "        print(\"Password must contain at least one lowercase letter.\")\n",
        "    else:\n",
        "        valid = True\n",
        "        print(\"Password is valid.\")"
      ],
      "metadata": {
        "colab": {
          "base_uri": "https://localhost:8080/"
        },
        "id": "XMWfpDRmR_dT",
        "outputId": "862bc866-602c-4df2-b59b-718b8474edc3"
      },
      "execution_count": 3,
      "outputs": [
        {
          "output_type": "stream",
          "name": "stdout",
          "text": [
            "Enter a password: restoranarabicasenayan\n",
            "Password must be between 6 and 16 characters.\n",
            "Enter a password: harley\n",
            "Password is valid.\n"
          ]
        }
      ]
    },
    {
      "cell_type": "markdown",
      "source": [
        "# TASK"
      ],
      "metadata": {
        "id": "s7rlDpBNSX6n"
      }
    },
    {
      "cell_type": "markdown",
      "source": [
        "**TASK 1**"
      ],
      "metadata": {
        "id": "jYyO5i2eSaDE"
      }
    },
    {
      "cell_type": "code",
      "source": [
        "a_string = \"Hello World!\"\n",
        "word_list = a_string. split()\n",
        "\n",
        "number_of_words = len(word_list)\n",
        "print(number_of_words)"
      ],
      "metadata": {
        "colab": {
          "base_uri": "https://localhost:8080/"
        },
        "id": "ksO6H14xSe1W",
        "outputId": "505cdf20-ae9f-4841-a6c0-a87ad14200f2"
      },
      "execution_count": 4,
      "outputs": [
        {
          "output_type": "stream",
          "name": "stdout",
          "text": [
            "2\n"
          ]
        }
      ]
    },
    {
      "cell_type": "code",
      "source": [
        "a_string = \"Once upon a Time in a faraway land\"\n",
        "word_list = a_string. split()\n",
        "\n",
        "number_of_words = len(word_list)\n",
        "print(number_of_words)"
      ],
      "metadata": {
        "colab": {
          "base_uri": "https://localhost:8080/"
        },
        "id": "3QGJyhyaSkI2",
        "outputId": "60eb7c37-0d0e-4534-8cdc-29de0f8e756c"
      },
      "execution_count": 5,
      "outputs": [
        {
          "output_type": "stream",
          "name": "stdout",
          "text": [
            "8\n"
          ]
        }
      ]
    },
    {
      "cell_type": "markdown",
      "source": [
        "**TASK 2**"
      ],
      "metadata": {
        "id": "2BrCzOKvSn72"
      }
    },
    {
      "cell_type": "code",
      "source": [
        "multiples_5 = [5*n for n in range(1,4+1)]\n",
        "multiples_5"
      ],
      "metadata": {
        "colab": {
          "base_uri": "https://localhost:8080/"
        },
        "id": "f3CzY0PzSq7N",
        "outputId": "f870afda-4822-44f4-ee34-df6f085061cf"
      },
      "execution_count": 6,
      "outputs": [
        {
          "output_type": "execute_result",
          "data": {
            "text/plain": [
              "[5, 10, 15, 20]"
            ]
          },
          "metadata": {},
          "execution_count": 6
        }
      ]
    },
    {
      "cell_type": "code",
      "source": [
        "multiples_10 = [10*n for n in range(1,5+1)]\n",
        "multiples_10"
      ],
      "metadata": {
        "colab": {
          "base_uri": "https://localhost:8080/"
        },
        "id": "ePxVHnwASufW",
        "outputId": "03bac40b-9eeb-4e99-d915-47b79fb71318"
      },
      "execution_count": 7,
      "outputs": [
        {
          "output_type": "execute_result",
          "data": {
            "text/plain": [
              "[10, 20, 30, 40, 50]"
            ]
          },
          "metadata": {},
          "execution_count": 7
        }
      ]
    },
    {
      "cell_type": "markdown",
      "source": [
        "**TASK 4**"
      ],
      "metadata": {
        "id": "xE-lXaZiS0kf"
      }
    },
    {
      "cell_type": "code",
      "source": [
        "n = int(input())\n",
        "a = 0\n",
        "b = 1\n",
        "sum = a + b\n",
        "count = 1\n",
        "print(\"Output: \", end=\" \")\n",
        "while (count <= n):\n",
        "\tcount += 1\n",
        "\tprint(a, end=\" \")\n",
        "\ta = b\n",
        "\tb = sum\n",
        "\tsum = a + b"
      ],
      "metadata": {
        "colab": {
          "base_uri": "https://localhost:8080/"
        },
        "id": "53f935hzSy73",
        "outputId": "2debfd95-62f3-4f58-bd5c-43dc29a85f9b"
      },
      "execution_count": 9,
      "outputs": [
        {
          "output_type": "stream",
          "name": "stdout",
          "text": [
            "0\n",
            "Output:  "
          ]
        }
      ]
    },
    {
      "cell_type": "code",
      "source": [
        "n = int(input())\n",
        "a = 0\n",
        "b = 1\n",
        "sum = a + b\n",
        "count = 1\n",
        "print(\"Output: \", end=\" \")\n",
        "while (count <= n):\n",
        "\tcount += 1\n",
        "\tprint(a, end=\" \")\n",
        "\ta = b\n",
        "\tb = sum\n",
        "\tsum = a + b\n"
      ],
      "metadata": {
        "colab": {
          "base_uri": "https://localhost:8080/"
        },
        "id": "GAX8TRRDTFmX",
        "outputId": "ab32d9ac-f87f-4156-8701-48bbcfba1fa5"
      },
      "execution_count": 10,
      "outputs": [
        {
          "output_type": "stream",
          "name": "stdout",
          "text": [
            "4\n",
            "Output:  0 1 1 2 "
          ]
        }
      ]
    },
    {
      "cell_type": "code",
      "source": [
        "n = int(input())\n",
        "a = 0\n",
        "b = 1\n",
        "sum = a + b\n",
        "count = 1\n",
        "print(\"Output: \", end=\" \")\n",
        "while (count <= n):\n",
        "\tcount += 1\n",
        "\tprint(a, end=\" \")\n",
        "\ta = b\n",
        "\tb = sum\n",
        "\tsum = a + b"
      ],
      "metadata": {
        "colab": {
          "base_uri": "https://localhost:8080/"
        },
        "id": "lvvHGY2DTMQX",
        "outputId": "2b986531-e38e-4144-f014-4085ba5ce511"
      },
      "execution_count": 11,
      "outputs": [
        {
          "output_type": "stream",
          "name": "stdout",
          "text": [
            "10\n",
            "Output:  0 1 1 2 3 5 8 13 21 34 "
          ]
        }
      ]
    }
  ]
}